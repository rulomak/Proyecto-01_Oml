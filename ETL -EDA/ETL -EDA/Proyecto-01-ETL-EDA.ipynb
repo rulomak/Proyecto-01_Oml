{
 "cells": [
  {
   "attachments": {},
   "cell_type": "markdown",
   "id": "2fc01ea0",
   "metadata": {},
   "source": [
    "# Proyecto ML Ops \n"
   ]
  },
  {
   "attachments": {},
   "cell_type": "markdown",
   "id": "0a2b8aa2",
   "metadata": {},
   "source": [
    "#  ETL\n"
   ]
  },
  {
   "cell_type": "code",
   "execution_count": 2,
   "id": "d813c34e",
   "metadata": {},
   "outputs": [],
   "source": [
    "import pandas as pd"
   ]
  },
  {
   "cell_type": "code",
   "execution_count": 3,
   "id": "aaa53a42",
   "metadata": {},
   "outputs": [],
   "source": [
    "# cargo el DataSet\n",
    "df_movies = pd.read_csv('movies_dataset.csv', low_memory=False)"
   ]
  },
  {
   "cell_type": "code",
   "execution_count": 4,
   "id": "f634b919",
   "metadata": {},
   "outputs": [],
   "source": [
    "pd.options.display.max_columns = None   # para ver todas las columnas "
   ]
  },
  {
   "cell_type": "code",
   "execution_count": 5,
   "id": "8bd9f98a",
   "metadata": {
    "scrolled": true
   },
   "outputs": [
    {
     "data": {
      "text/html": [
       "<div>\n",
       "<style scoped>\n",
       "    .dataframe tbody tr th:only-of-type {\n",
       "        vertical-align: middle;\n",
       "    }\n",
       "\n",
       "    .dataframe tbody tr th {\n",
       "        vertical-align: top;\n",
       "    }\n",
       "\n",
       "    .dataframe thead th {\n",
       "        text-align: right;\n",
       "    }\n",
       "</style>\n",
       "<table border=\"1\" class=\"dataframe\">\n",
       "  <thead>\n",
       "    <tr style=\"text-align: right;\">\n",
       "      <th></th>\n",
       "      <th>adult</th>\n",
       "      <th>belongs_to_collection</th>\n",
       "      <th>budget</th>\n",
       "      <th>genres</th>\n",
       "      <th>homepage</th>\n",
       "      <th>id</th>\n",
       "      <th>imdb_id</th>\n",
       "      <th>original_language</th>\n",
       "      <th>original_title</th>\n",
       "      <th>overview</th>\n",
       "      <th>popularity</th>\n",
       "      <th>poster_path</th>\n",
       "      <th>production_companies</th>\n",
       "      <th>production_countries</th>\n",
       "      <th>release_date</th>\n",
       "      <th>revenue</th>\n",
       "      <th>runtime</th>\n",
       "      <th>spoken_languages</th>\n",
       "      <th>status</th>\n",
       "      <th>tagline</th>\n",
       "      <th>title</th>\n",
       "      <th>video</th>\n",
       "      <th>vote_average</th>\n",
       "      <th>vote_count</th>\n",
       "    </tr>\n",
       "  </thead>\n",
       "  <tbody>\n",
       "    <tr>\n",
       "      <th>0</th>\n",
       "      <td>False</td>\n",
       "      <td>{'id': 10194, 'name': 'Toy Story Collection', ...</td>\n",
       "      <td>30000000</td>\n",
       "      <td>[{'id': 16, 'name': 'Animation'}, {'id': 35, '...</td>\n",
       "      <td>http://toystory.disney.com/toy-story</td>\n",
       "      <td>862</td>\n",
       "      <td>tt0114709</td>\n",
       "      <td>en</td>\n",
       "      <td>Toy Story</td>\n",
       "      <td>Led by Woody, Andy's toys live happily in his ...</td>\n",
       "      <td>21.946943</td>\n",
       "      <td>/rhIRbceoE9lR4veEXuwCC2wARtG.jpg</td>\n",
       "      <td>[{'name': 'Pixar Animation Studios', 'id': 3}]</td>\n",
       "      <td>[{'iso_3166_1': 'US', 'name': 'United States o...</td>\n",
       "      <td>1995-10-30</td>\n",
       "      <td>373554033.0</td>\n",
       "      <td>81.0</td>\n",
       "      <td>[{'iso_639_1': 'en', 'name': 'English'}]</td>\n",
       "      <td>Released</td>\n",
       "      <td>NaN</td>\n",
       "      <td>Toy Story</td>\n",
       "      <td>False</td>\n",
       "      <td>7.7</td>\n",
       "      <td>5415.0</td>\n",
       "    </tr>\n",
       "    <tr>\n",
       "      <th>1</th>\n",
       "      <td>False</td>\n",
       "      <td>NaN</td>\n",
       "      <td>65000000</td>\n",
       "      <td>[{'id': 12, 'name': 'Adventure'}, {'id': 14, '...</td>\n",
       "      <td>NaN</td>\n",
       "      <td>8844</td>\n",
       "      <td>tt0113497</td>\n",
       "      <td>en</td>\n",
       "      <td>Jumanji</td>\n",
       "      <td>When siblings Judy and Peter discover an encha...</td>\n",
       "      <td>17.015539</td>\n",
       "      <td>/vzmL6fP7aPKNKPRTFnZmiUfciyV.jpg</td>\n",
       "      <td>[{'name': 'TriStar Pictures', 'id': 559}, {'na...</td>\n",
       "      <td>[{'iso_3166_1': 'US', 'name': 'United States o...</td>\n",
       "      <td>1995-12-15</td>\n",
       "      <td>262797249.0</td>\n",
       "      <td>104.0</td>\n",
       "      <td>[{'iso_639_1': 'en', 'name': 'English'}, {'iso...</td>\n",
       "      <td>Released</td>\n",
       "      <td>Roll the dice and unleash the excitement!</td>\n",
       "      <td>Jumanji</td>\n",
       "      <td>False</td>\n",
       "      <td>6.9</td>\n",
       "      <td>2413.0</td>\n",
       "    </tr>\n",
       "    <tr>\n",
       "      <th>2</th>\n",
       "      <td>False</td>\n",
       "      <td>{'id': 119050, 'name': 'Grumpy Old Men Collect...</td>\n",
       "      <td>0</td>\n",
       "      <td>[{'id': 10749, 'name': 'Romance'}, {'id': 35, ...</td>\n",
       "      <td>NaN</td>\n",
       "      <td>15602</td>\n",
       "      <td>tt0113228</td>\n",
       "      <td>en</td>\n",
       "      <td>Grumpier Old Men</td>\n",
       "      <td>A family wedding reignites the ancient feud be...</td>\n",
       "      <td>11.7129</td>\n",
       "      <td>/6ksm1sjKMFLbO7UY2i6G1ju9SML.jpg</td>\n",
       "      <td>[{'name': 'Warner Bros.', 'id': 6194}, {'name'...</td>\n",
       "      <td>[{'iso_3166_1': 'US', 'name': 'United States o...</td>\n",
       "      <td>1995-12-22</td>\n",
       "      <td>0.0</td>\n",
       "      <td>101.0</td>\n",
       "      <td>[{'iso_639_1': 'en', 'name': 'English'}]</td>\n",
       "      <td>Released</td>\n",
       "      <td>Still Yelling. Still Fighting. Still Ready for...</td>\n",
       "      <td>Grumpier Old Men</td>\n",
       "      <td>False</td>\n",
       "      <td>6.5</td>\n",
       "      <td>92.0</td>\n",
       "    </tr>\n",
       "  </tbody>\n",
       "</table>\n",
       "</div>"
      ],
      "text/plain": [
       "   adult                              belongs_to_collection    budget  \\\n",
       "0  False  {'id': 10194, 'name': 'Toy Story Collection', ...  30000000   \n",
       "1  False                                                NaN  65000000   \n",
       "2  False  {'id': 119050, 'name': 'Grumpy Old Men Collect...         0   \n",
       "\n",
       "                                              genres  \\\n",
       "0  [{'id': 16, 'name': 'Animation'}, {'id': 35, '...   \n",
       "1  [{'id': 12, 'name': 'Adventure'}, {'id': 14, '...   \n",
       "2  [{'id': 10749, 'name': 'Romance'}, {'id': 35, ...   \n",
       "\n",
       "                               homepage     id    imdb_id original_language  \\\n",
       "0  http://toystory.disney.com/toy-story    862  tt0114709                en   \n",
       "1                                   NaN   8844  tt0113497                en   \n",
       "2                                   NaN  15602  tt0113228                en   \n",
       "\n",
       "     original_title                                           overview  \\\n",
       "0         Toy Story  Led by Woody, Andy's toys live happily in his ...   \n",
       "1           Jumanji  When siblings Judy and Peter discover an encha...   \n",
       "2  Grumpier Old Men  A family wedding reignites the ancient feud be...   \n",
       "\n",
       "  popularity                       poster_path  \\\n",
       "0  21.946943  /rhIRbceoE9lR4veEXuwCC2wARtG.jpg   \n",
       "1  17.015539  /vzmL6fP7aPKNKPRTFnZmiUfciyV.jpg   \n",
       "2    11.7129  /6ksm1sjKMFLbO7UY2i6G1ju9SML.jpg   \n",
       "\n",
       "                                production_companies  \\\n",
       "0     [{'name': 'Pixar Animation Studios', 'id': 3}]   \n",
       "1  [{'name': 'TriStar Pictures', 'id': 559}, {'na...   \n",
       "2  [{'name': 'Warner Bros.', 'id': 6194}, {'name'...   \n",
       "\n",
       "                                production_countries release_date  \\\n",
       "0  [{'iso_3166_1': 'US', 'name': 'United States o...   1995-10-30   \n",
       "1  [{'iso_3166_1': 'US', 'name': 'United States o...   1995-12-15   \n",
       "2  [{'iso_3166_1': 'US', 'name': 'United States o...   1995-12-22   \n",
       "\n",
       "       revenue  runtime                                   spoken_languages  \\\n",
       "0  373554033.0     81.0           [{'iso_639_1': 'en', 'name': 'English'}]   \n",
       "1  262797249.0    104.0  [{'iso_639_1': 'en', 'name': 'English'}, {'iso...   \n",
       "2          0.0    101.0           [{'iso_639_1': 'en', 'name': 'English'}]   \n",
       "\n",
       "     status                                            tagline  \\\n",
       "0  Released                                                NaN   \n",
       "1  Released          Roll the dice and unleash the excitement!   \n",
       "2  Released  Still Yelling. Still Fighting. Still Ready for...   \n",
       "\n",
       "              title  video  vote_average  vote_count  \n",
       "0         Toy Story  False           7.7      5415.0  \n",
       "1           Jumanji  False           6.9      2413.0  \n",
       "2  Grumpier Old Men  False           6.5        92.0  "
      ]
     },
     "execution_count": 5,
     "metadata": {},
     "output_type": "execute_result"
    }
   ],
   "source": [
    "df_movies.head(3)"
   ]
  },
  {
   "attachments": {},
   "cell_type": "markdown",
   "id": "a6d9669a",
   "metadata": {},
   "source": [
    "## Borro columnas innecesarias"
   ]
  },
  {
   "cell_type": "code",
   "execution_count": 6,
   "id": "180f0f1b",
   "metadata": {},
   "outputs": [],
   "source": [
    "columnas_innecesarias = ['video','imdb_id','adult','original_title','vote_count','poster_path','homepage']\n",
    "\n",
    "df_movies = df_movies.drop(columnas_innecesarias, axis=1)"
   ]
  },
  {
   "attachments": {},
   "cell_type": "markdown",
   "id": "9ab4c711",
   "metadata": {},
   "source": [
    "## relleno los nulos con 0"
   ]
  },
  {
   "cell_type": "code",
   "execution_count": 7,
   "id": "48ce4240",
   "metadata": {},
   "outputs": [],
   "source": [
    "col_null = ['revenue', 'budget']\n",
    "df_movies[col_null] = df_movies[col_null].fillna(0)"
   ]
  },
  {
   "cell_type": "code",
   "execution_count": 8,
   "id": "0b862904",
   "metadata": {},
   "outputs": [
    {
     "data": {
      "text/plain": [
       "belongs_to_collection    40972\n",
       "budget                       0\n",
       "genres                       0\n",
       "id                           0\n",
       "original_language           11\n",
       "overview                   954\n",
       "popularity                   5\n",
       "production_companies         3\n",
       "production_countries         3\n",
       "release_date                87\n",
       "revenue                      0\n",
       "runtime                    263\n",
       "spoken_languages             6\n",
       "status                      87\n",
       "tagline                  25054\n",
       "title                        6\n",
       "vote_average                 6\n",
       "dtype: int64"
      ]
     },
     "execution_count": 8,
     "metadata": {},
     "output_type": "execute_result"
    }
   ],
   "source": [
    "# verifico los nulos \n",
    "df_movies.isnull().sum()"
   ]
  },
  {
   "attachments": {},
   "cell_type": "markdown",
   "id": "7a32f397",
   "metadata": {},
   "source": [
    "## elimino nulos en \"release_date\""
   ]
  },
  {
   "cell_type": "code",
   "execution_count": 9,
   "id": "60d35092",
   "metadata": {},
   "outputs": [],
   "source": [
    "df_movies.dropna(subset=['release_date'], inplace=True)"
   ]
  },
  {
   "attachments": {},
   "cell_type": "markdown",
   "id": "51e6bc3b",
   "metadata": {},
   "source": [
    "tengo valores erroneos que no se pueden convertir a fecha en 'release_date'\n"
   ]
  },
  {
   "cell_type": "code",
   "execution_count": 10,
   "id": "2ed097fb",
   "metadata": {},
   "outputs": [],
   "source": [
    "# quito valores erroneos  \n",
    "df_movies['release_date'] = pd.to_datetime(df_movies['release_date'], errors='coerce')"
   ]
  },
  {
   "cell_type": "code",
   "execution_count": 11,
   "id": "49fd0cfa",
   "metadata": {},
   "outputs": [
    {
     "data": {
      "text/html": [
       "<div>\n",
       "<style scoped>\n",
       "    .dataframe tbody tr th:only-of-type {\n",
       "        vertical-align: middle;\n",
       "    }\n",
       "\n",
       "    .dataframe tbody tr th {\n",
       "        vertical-align: top;\n",
       "    }\n",
       "\n",
       "    .dataframe thead th {\n",
       "        text-align: right;\n",
       "    }\n",
       "</style>\n",
       "<table border=\"1\" class=\"dataframe\">\n",
       "  <thead>\n",
       "    <tr style=\"text-align: right;\">\n",
       "      <th></th>\n",
       "      <th>belongs_to_collection</th>\n",
       "      <th>budget</th>\n",
       "      <th>genres</th>\n",
       "      <th>id</th>\n",
       "      <th>original_language</th>\n",
       "      <th>overview</th>\n",
       "      <th>popularity</th>\n",
       "      <th>production_companies</th>\n",
       "      <th>production_countries</th>\n",
       "      <th>release_date</th>\n",
       "      <th>revenue</th>\n",
       "      <th>runtime</th>\n",
       "      <th>spoken_languages</th>\n",
       "      <th>status</th>\n",
       "      <th>tagline</th>\n",
       "      <th>title</th>\n",
       "      <th>vote_average</th>\n",
       "    </tr>\n",
       "  </thead>\n",
       "  <tbody>\n",
       "    <tr>\n",
       "      <th>19730</th>\n",
       "      <td>0.065736</td>\n",
       "      <td>/ff9qCepilowshEtG2GYWwzt2bs4.jpg</td>\n",
       "      <td>[{'name': 'Carousel Productions', 'id': 11176}...</td>\n",
       "      <td>1997-08-20</td>\n",
       "      <td>104.0</td>\n",
       "      <td>Released</td>\n",
       "      <td>NaN</td>\n",
       "      <td>False</td>\n",
       "      <td>6.0</td>\n",
       "      <td>NaT</td>\n",
       "      <td>0.0</td>\n",
       "      <td>NaN</td>\n",
       "      <td>NaN</td>\n",
       "      <td>NaN</td>\n",
       "      <td>NaN</td>\n",
       "      <td>NaN</td>\n",
       "      <td>NaN</td>\n",
       "    </tr>\n",
       "    <tr>\n",
       "      <th>29503</th>\n",
       "      <td>1.931659</td>\n",
       "      <td>/zV8bHuSL6WXoD6FWogP9j4x80bL.jpg</td>\n",
       "      <td>[{'name': 'Aniplex', 'id': 2883}, {'name': 'Go...</td>\n",
       "      <td>2012-09-29</td>\n",
       "      <td>68.0</td>\n",
       "      <td>Released</td>\n",
       "      <td>NaN</td>\n",
       "      <td>False</td>\n",
       "      <td>7.0</td>\n",
       "      <td>NaT</td>\n",
       "      <td>0.0</td>\n",
       "      <td>NaN</td>\n",
       "      <td>NaN</td>\n",
       "      <td>NaN</td>\n",
       "      <td>NaN</td>\n",
       "      <td>NaN</td>\n",
       "      <td>NaN</td>\n",
       "    </tr>\n",
       "    <tr>\n",
       "      <th>35587</th>\n",
       "      <td>2.185485</td>\n",
       "      <td>/zaSf5OG7V8X8gqFvly88zDdRm46.jpg</td>\n",
       "      <td>[{'name': 'Odyssey Media', 'id': 17161}, {'nam...</td>\n",
       "      <td>2014-01-01</td>\n",
       "      <td>82.0</td>\n",
       "      <td>Released</td>\n",
       "      <td>Beware Of Frost Bites</td>\n",
       "      <td>False</td>\n",
       "      <td>4.3</td>\n",
       "      <td>NaT</td>\n",
       "      <td>0.0</td>\n",
       "      <td>NaN</td>\n",
       "      <td>NaN</td>\n",
       "      <td>NaN</td>\n",
       "      <td>NaN</td>\n",
       "      <td>NaN</td>\n",
       "      <td>NaN</td>\n",
       "    </tr>\n",
       "  </tbody>\n",
       "</table>\n",
       "</div>"
      ],
      "text/plain": [
       "      belongs_to_collection                            budget  \\\n",
       "19730              0.065736  /ff9qCepilowshEtG2GYWwzt2bs4.jpg   \n",
       "29503              1.931659  /zV8bHuSL6WXoD6FWogP9j4x80bL.jpg   \n",
       "35587              2.185485  /zaSf5OG7V8X8gqFvly88zDdRm46.jpg   \n",
       "\n",
       "                                                  genres          id  \\\n",
       "19730  [{'name': 'Carousel Productions', 'id': 11176}...  1997-08-20   \n",
       "29503  [{'name': 'Aniplex', 'id': 2883}, {'name': 'Go...  2012-09-29   \n",
       "35587  [{'name': 'Odyssey Media', 'id': 17161}, {'nam...  2014-01-01   \n",
       "\n",
       "      original_language  overview             popularity production_companies  \\\n",
       "19730             104.0  Released                    NaN                False   \n",
       "29503              68.0  Released                    NaN                False   \n",
       "35587              82.0  Released  Beware Of Frost Bites                False   \n",
       "\n",
       "      production_countries release_date  revenue  runtime spoken_languages  \\\n",
       "19730                  6.0          NaT      0.0      NaN              NaN   \n",
       "29503                  7.0          NaT      0.0      NaN              NaN   \n",
       "35587                  4.3          NaT      0.0      NaN              NaN   \n",
       "\n",
       "      status tagline title  vote_average  \n",
       "19730    NaN     NaN   NaN           NaN  \n",
       "29503    NaN     NaN   NaN           NaN  \n",
       "35587    NaN     NaN   NaN           NaN  "
      ]
     },
     "execution_count": 11,
     "metadata": {},
     "output_type": "execute_result"
    }
   ],
   "source": [
    "# verifico estos valores a ver si se pueden remplazar  \n",
    "df_movies[df_movies['release_date'].isnull()]"
   ]
  },
  {
   "attachments": {},
   "cell_type": "markdown",
   "id": "52255acb",
   "metadata": {},
   "source": [
    " veo que son filas con data erronea o nula casi en la totalidad de sus campos "
   ]
  },
  {
   "cell_type": "code",
   "execution_count": 12,
   "id": "547e2353",
   "metadata": {},
   "outputs": [],
   "source": [
    "# elimino nulos nuevamente \n",
    "df_movies.dropna(subset=['release_date'], inplace=True)"
   ]
  },
  {
   "attachments": {},
   "cell_type": "markdown",
   "id": "922e515e",
   "metadata": {},
   "source": [
    "## Crear una nueva columna con el año extraído de \"release_date\""
   ]
  },
  {
   "cell_type": "code",
   "execution_count": 13,
   "id": "3c624007",
   "metadata": {},
   "outputs": [],
   "source": [
    "df_movies['release_year'] = df_movies['release_date'].dt.year"
   ]
  },
  {
   "cell_type": "code",
   "execution_count": 14,
   "id": "1a400e61",
   "metadata": {},
   "outputs": [
    {
     "name": "stdout",
     "output_type": "stream",
     "text": [
      "<class 'pandas.core.frame.DataFrame'>\n",
      "Int64Index: 45376 entries, 0 to 45465\n",
      "Data columns (total 18 columns):\n",
      " #   Column                 Non-Null Count  Dtype         \n",
      "---  ------                 --------------  -----         \n",
      " 0   belongs_to_collection  4488 non-null   object        \n",
      " 1   budget                 45376 non-null  object        \n",
      " 2   genres                 45376 non-null  object        \n",
      " 3   id                     45376 non-null  object        \n",
      " 4   original_language      45365 non-null  object        \n",
      " 5   overview               44435 non-null  object        \n",
      " 6   popularity             45376 non-null  object        \n",
      " 7   production_companies   45376 non-null  object        \n",
      " 8   production_countries   45376 non-null  object        \n",
      " 9   release_date           45376 non-null  datetime64[ns]\n",
      " 10  revenue                45376 non-null  float64       \n",
      " 11  runtime                45130 non-null  float64       \n",
      " 12  spoken_languages       45376 non-null  object        \n",
      " 13  status                 45296 non-null  object        \n",
      " 14  tagline                20398 non-null  object        \n",
      " 15  title                  45376 non-null  object        \n",
      " 16  vote_average           45376 non-null  float64       \n",
      " 17  release_year           45376 non-null  int64         \n",
      "dtypes: datetime64[ns](1), float64(3), int64(1), object(13)\n",
      "memory usage: 6.6+ MB\n"
     ]
    }
   ],
   "source": [
    "# verifico columna y tipo de dato \n",
    "df_movies.info()"
   ]
  },
  {
   "attachments": {},
   "cell_type": "markdown",
   "id": "6cd28739",
   "metadata": {},
   "source": [
    "## agrego columna \"return\""
   ]
  },
  {
   "cell_type": "code",
   "execution_count": 15,
   "id": "6ff3116e",
   "metadata": {},
   "outputs": [],
   "source": [
    "# convierto la columna en numerica para poder hacer el calculo  \n",
    "# se usa to_numeric  porque hay datos que no se pueden convertir como imagenes   \n",
    "\n",
    "df_movies['budget'] = pd.to_numeric(df_movies['budget'], errors='coerce')\n",
    "\n",
    "# Reemplazo los valores nulos por 0 \n",
    "df_movies['budget'] = df_movies['budget'].fillna(0)"
   ]
  },
  {
   "cell_type": "code",
   "execution_count": 16,
   "id": "77b2b22a",
   "metadata": {},
   "outputs": [],
   "source": [
    "# Defino una función lambda que realice la operación de división y valide los valores de cero\n",
    "\n",
    "df_movies['return'] = df_movies.apply(lambda row: row['revenue'] / row['budget'] \n",
    "                                      if row['revenue'] != 0 and row['budget'] != 0 else 0, axis=1)"
   ]
  },
  {
   "cell_type": "code",
   "execution_count": 17,
   "id": "e2c6f884",
   "metadata": {},
   "outputs": [
    {
     "data": {
      "text/html": [
       "<div>\n",
       "<style scoped>\n",
       "    .dataframe tbody tr th:only-of-type {\n",
       "        vertical-align: middle;\n",
       "    }\n",
       "\n",
       "    .dataframe tbody tr th {\n",
       "        vertical-align: top;\n",
       "    }\n",
       "\n",
       "    .dataframe thead th {\n",
       "        text-align: right;\n",
       "    }\n",
       "</style>\n",
       "<table border=\"1\" class=\"dataframe\">\n",
       "  <thead>\n",
       "    <tr style=\"text-align: right;\">\n",
       "      <th></th>\n",
       "      <th>belongs_to_collection</th>\n",
       "      <th>budget</th>\n",
       "      <th>genres</th>\n",
       "      <th>id</th>\n",
       "      <th>original_language</th>\n",
       "      <th>overview</th>\n",
       "      <th>popularity</th>\n",
       "      <th>production_companies</th>\n",
       "      <th>production_countries</th>\n",
       "      <th>release_date</th>\n",
       "      <th>revenue</th>\n",
       "      <th>runtime</th>\n",
       "      <th>spoken_languages</th>\n",
       "      <th>status</th>\n",
       "      <th>tagline</th>\n",
       "      <th>title</th>\n",
       "      <th>vote_average</th>\n",
       "      <th>release_year</th>\n",
       "      <th>return</th>\n",
       "    </tr>\n",
       "  </thead>\n",
       "  <tbody>\n",
       "    <tr>\n",
       "      <th>0</th>\n",
       "      <td>{'id': 10194, 'name': 'Toy Story Collection', ...</td>\n",
       "      <td>30000000</td>\n",
       "      <td>[{'id': 16, 'name': 'Animation'}, {'id': 35, '...</td>\n",
       "      <td>862</td>\n",
       "      <td>en</td>\n",
       "      <td>Led by Woody, Andy's toys live happily in his ...</td>\n",
       "      <td>21.946943</td>\n",
       "      <td>[{'name': 'Pixar Animation Studios', 'id': 3}]</td>\n",
       "      <td>[{'iso_3166_1': 'US', 'name': 'United States o...</td>\n",
       "      <td>1995-10-30</td>\n",
       "      <td>373554033.0</td>\n",
       "      <td>81.0</td>\n",
       "      <td>[{'iso_639_1': 'en', 'name': 'English'}]</td>\n",
       "      <td>Released</td>\n",
       "      <td>NaN</td>\n",
       "      <td>Toy Story</td>\n",
       "      <td>7.7</td>\n",
       "      <td>1995</td>\n",
       "      <td>12.451801</td>\n",
       "    </tr>\n",
       "    <tr>\n",
       "      <th>1</th>\n",
       "      <td>NaN</td>\n",
       "      <td>65000000</td>\n",
       "      <td>[{'id': 12, 'name': 'Adventure'}, {'id': 14, '...</td>\n",
       "      <td>8844</td>\n",
       "      <td>en</td>\n",
       "      <td>When siblings Judy and Peter discover an encha...</td>\n",
       "      <td>17.015539</td>\n",
       "      <td>[{'name': 'TriStar Pictures', 'id': 559}, {'na...</td>\n",
       "      <td>[{'iso_3166_1': 'US', 'name': 'United States o...</td>\n",
       "      <td>1995-12-15</td>\n",
       "      <td>262797249.0</td>\n",
       "      <td>104.0</td>\n",
       "      <td>[{'iso_639_1': 'en', 'name': 'English'}, {'iso...</td>\n",
       "      <td>Released</td>\n",
       "      <td>Roll the dice and unleash the excitement!</td>\n",
       "      <td>Jumanji</td>\n",
       "      <td>6.9</td>\n",
       "      <td>1995</td>\n",
       "      <td>4.043035</td>\n",
       "    </tr>\n",
       "    <tr>\n",
       "      <th>2</th>\n",
       "      <td>{'id': 119050, 'name': 'Grumpy Old Men Collect...</td>\n",
       "      <td>0</td>\n",
       "      <td>[{'id': 10749, 'name': 'Romance'}, {'id': 35, ...</td>\n",
       "      <td>15602</td>\n",
       "      <td>en</td>\n",
       "      <td>A family wedding reignites the ancient feud be...</td>\n",
       "      <td>11.7129</td>\n",
       "      <td>[{'name': 'Warner Bros.', 'id': 6194}, {'name'...</td>\n",
       "      <td>[{'iso_3166_1': 'US', 'name': 'United States o...</td>\n",
       "      <td>1995-12-22</td>\n",
       "      <td>0.0</td>\n",
       "      <td>101.0</td>\n",
       "      <td>[{'iso_639_1': 'en', 'name': 'English'}]</td>\n",
       "      <td>Released</td>\n",
       "      <td>Still Yelling. Still Fighting. Still Ready for...</td>\n",
       "      <td>Grumpier Old Men</td>\n",
       "      <td>6.5</td>\n",
       "      <td>1995</td>\n",
       "      <td>0.000000</td>\n",
       "    </tr>\n",
       "    <tr>\n",
       "      <th>3</th>\n",
       "      <td>NaN</td>\n",
       "      <td>16000000</td>\n",
       "      <td>[{'id': 35, 'name': 'Comedy'}, {'id': 18, 'nam...</td>\n",
       "      <td>31357</td>\n",
       "      <td>en</td>\n",
       "      <td>Cheated on, mistreated and stepped on, the wom...</td>\n",
       "      <td>3.859495</td>\n",
       "      <td>[{'name': 'Twentieth Century Fox Film Corporat...</td>\n",
       "      <td>[{'iso_3166_1': 'US', 'name': 'United States o...</td>\n",
       "      <td>1995-12-22</td>\n",
       "      <td>81452156.0</td>\n",
       "      <td>127.0</td>\n",
       "      <td>[{'iso_639_1': 'en', 'name': 'English'}]</td>\n",
       "      <td>Released</td>\n",
       "      <td>Friends are the people who let you be yourself...</td>\n",
       "      <td>Waiting to Exhale</td>\n",
       "      <td>6.1</td>\n",
       "      <td>1995</td>\n",
       "      <td>5.090760</td>\n",
       "    </tr>\n",
       "  </tbody>\n",
       "</table>\n",
       "</div>"
      ],
      "text/plain": [
       "                               belongs_to_collection    budget  \\\n",
       "0  {'id': 10194, 'name': 'Toy Story Collection', ...  30000000   \n",
       "1                                                NaN  65000000   \n",
       "2  {'id': 119050, 'name': 'Grumpy Old Men Collect...         0   \n",
       "3                                                NaN  16000000   \n",
       "\n",
       "                                              genres     id original_language  \\\n",
       "0  [{'id': 16, 'name': 'Animation'}, {'id': 35, '...    862                en   \n",
       "1  [{'id': 12, 'name': 'Adventure'}, {'id': 14, '...   8844                en   \n",
       "2  [{'id': 10749, 'name': 'Romance'}, {'id': 35, ...  15602                en   \n",
       "3  [{'id': 35, 'name': 'Comedy'}, {'id': 18, 'nam...  31357                en   \n",
       "\n",
       "                                            overview popularity  \\\n",
       "0  Led by Woody, Andy's toys live happily in his ...  21.946943   \n",
       "1  When siblings Judy and Peter discover an encha...  17.015539   \n",
       "2  A family wedding reignites the ancient feud be...    11.7129   \n",
       "3  Cheated on, mistreated and stepped on, the wom...   3.859495   \n",
       "\n",
       "                                production_companies  \\\n",
       "0     [{'name': 'Pixar Animation Studios', 'id': 3}]   \n",
       "1  [{'name': 'TriStar Pictures', 'id': 559}, {'na...   \n",
       "2  [{'name': 'Warner Bros.', 'id': 6194}, {'name'...   \n",
       "3  [{'name': 'Twentieth Century Fox Film Corporat...   \n",
       "\n",
       "                                production_countries release_date  \\\n",
       "0  [{'iso_3166_1': 'US', 'name': 'United States o...   1995-10-30   \n",
       "1  [{'iso_3166_1': 'US', 'name': 'United States o...   1995-12-15   \n",
       "2  [{'iso_3166_1': 'US', 'name': 'United States o...   1995-12-22   \n",
       "3  [{'iso_3166_1': 'US', 'name': 'United States o...   1995-12-22   \n",
       "\n",
       "       revenue  runtime                                   spoken_languages  \\\n",
       "0  373554033.0     81.0           [{'iso_639_1': 'en', 'name': 'English'}]   \n",
       "1  262797249.0    104.0  [{'iso_639_1': 'en', 'name': 'English'}, {'iso...   \n",
       "2          0.0    101.0           [{'iso_639_1': 'en', 'name': 'English'}]   \n",
       "3   81452156.0    127.0           [{'iso_639_1': 'en', 'name': 'English'}]   \n",
       "\n",
       "     status                                            tagline  \\\n",
       "0  Released                                                NaN   \n",
       "1  Released          Roll the dice and unleash the excitement!   \n",
       "2  Released  Still Yelling. Still Fighting. Still Ready for...   \n",
       "3  Released  Friends are the people who let you be yourself...   \n",
       "\n",
       "               title  vote_average  release_year     return  \n",
       "0          Toy Story           7.7          1995  12.451801  \n",
       "1            Jumanji           6.9          1995   4.043035  \n",
       "2   Grumpier Old Men           6.5          1995   0.000000  \n",
       "3  Waiting to Exhale           6.1          1995   5.090760  "
      ]
     },
     "execution_count": 17,
     "metadata": {},
     "output_type": "execute_result"
    }
   ],
   "source": [
    "df_movies.head(4)"
   ]
  },
  {
   "attachments": {},
   "cell_type": "markdown",
   "id": "27b70d16",
   "metadata": {},
   "source": [
    "## desanidar datos\n"
   ]
  },
  {
   "cell_type": "code",
   "execution_count": 18,
   "id": "a34e2f1a",
   "metadata": {},
   "outputs": [],
   "source": [
    "# funcion para optener el los nombre de los obetos anidados  \n",
    "\n",
    "def get_object_names(x):\n",
    "    try:\n",
    "        object_list = eval(x)\n",
    "        object_names = [object_dict['name'] for object_dict in object_list]\n",
    "        return ', '.join(object_names)\n",
    "    except:\n",
    "        return 'sin dato'"
   ]
  },
  {
   "cell_type": "code",
   "execution_count": 19,
   "id": "fc391ab9",
   "metadata": {},
   "outputs": [],
   "source": [
    "# creo una nueva columna con los nombre de los paises productores  \n",
    "df_movies['country_name'] = df_movies['production_countries'].apply(get_object_names)"
   ]
  },
  {
   "cell_type": "code",
   "execution_count": 20,
   "id": "77bba7c6",
   "metadata": {},
   "outputs": [],
   "source": [
    "# creo una nueva columna con los nombre de las productoras\n",
    "df_movies['name_production_compani'] = df_movies['production_companies'].apply(get_object_names)"
   ]
  },
  {
   "cell_type": "code",
   "execution_count": 21,
   "id": "375e2070",
   "metadata": {},
   "outputs": [],
   "source": [
    "# creo nueva columna para generos \n",
    "df_movies['name_genres'] = df_movies['genres'].apply(get_object_names)"
   ]
  },
  {
   "cell_type": "code",
   "execution_count": 22,
   "id": "a2fe395e",
   "metadata": {},
   "outputs": [],
   "source": [
    "# creo nueva columna para idiomas \n",
    "df_movies['name_languages'] = df_movies['spoken_languages'].apply(get_object_names)"
   ]
  },
  {
   "cell_type": "code",
   "execution_count": 23,
   "id": "4fc5e227",
   "metadata": {},
   "outputs": [
    {
     "data": {
      "text/html": [
       "<div>\n",
       "<style scoped>\n",
       "    .dataframe tbody tr th:only-of-type {\n",
       "        vertical-align: middle;\n",
       "    }\n",
       "\n",
       "    .dataframe tbody tr th {\n",
       "        vertical-align: top;\n",
       "    }\n",
       "\n",
       "    .dataframe thead th {\n",
       "        text-align: right;\n",
       "    }\n",
       "</style>\n",
       "<table border=\"1\" class=\"dataframe\">\n",
       "  <thead>\n",
       "    <tr style=\"text-align: right;\">\n",
       "      <th></th>\n",
       "      <th>belongs_to_collection</th>\n",
       "      <th>budget</th>\n",
       "      <th>genres</th>\n",
       "      <th>id</th>\n",
       "      <th>original_language</th>\n",
       "      <th>overview</th>\n",
       "      <th>popularity</th>\n",
       "      <th>production_companies</th>\n",
       "      <th>production_countries</th>\n",
       "      <th>release_date</th>\n",
       "      <th>revenue</th>\n",
       "      <th>runtime</th>\n",
       "      <th>spoken_languages</th>\n",
       "      <th>status</th>\n",
       "      <th>tagline</th>\n",
       "      <th>title</th>\n",
       "      <th>vote_average</th>\n",
       "      <th>release_year</th>\n",
       "      <th>return</th>\n",
       "      <th>country_name</th>\n",
       "      <th>name_production_compani</th>\n",
       "      <th>name_genres</th>\n",
       "      <th>name_languages</th>\n",
       "    </tr>\n",
       "  </thead>\n",
       "  <tbody>\n",
       "    <tr>\n",
       "      <th>0</th>\n",
       "      <td>{'id': 10194, 'name': 'Toy Story Collection', ...</td>\n",
       "      <td>30000000</td>\n",
       "      <td>[{'id': 16, 'name': 'Animation'}, {'id': 35, '...</td>\n",
       "      <td>862</td>\n",
       "      <td>en</td>\n",
       "      <td>Led by Woody, Andy's toys live happily in his ...</td>\n",
       "      <td>21.946943</td>\n",
       "      <td>[{'name': 'Pixar Animation Studios', 'id': 3}]</td>\n",
       "      <td>[{'iso_3166_1': 'US', 'name': 'United States o...</td>\n",
       "      <td>1995-10-30</td>\n",
       "      <td>373554033.0</td>\n",
       "      <td>81.0</td>\n",
       "      <td>[{'iso_639_1': 'en', 'name': 'English'}]</td>\n",
       "      <td>Released</td>\n",
       "      <td>NaN</td>\n",
       "      <td>Toy Story</td>\n",
       "      <td>7.7</td>\n",
       "      <td>1995</td>\n",
       "      <td>12.451801</td>\n",
       "      <td>United States of America</td>\n",
       "      <td>Pixar Animation Studios</td>\n",
       "      <td>Animation, Comedy, Family</td>\n",
       "      <td>English</td>\n",
       "    </tr>\n",
       "    <tr>\n",
       "      <th>1</th>\n",
       "      <td>NaN</td>\n",
       "      <td>65000000</td>\n",
       "      <td>[{'id': 12, 'name': 'Adventure'}, {'id': 14, '...</td>\n",
       "      <td>8844</td>\n",
       "      <td>en</td>\n",
       "      <td>When siblings Judy and Peter discover an encha...</td>\n",
       "      <td>17.015539</td>\n",
       "      <td>[{'name': 'TriStar Pictures', 'id': 559}, {'na...</td>\n",
       "      <td>[{'iso_3166_1': 'US', 'name': 'United States o...</td>\n",
       "      <td>1995-12-15</td>\n",
       "      <td>262797249.0</td>\n",
       "      <td>104.0</td>\n",
       "      <td>[{'iso_639_1': 'en', 'name': 'English'}, {'iso...</td>\n",
       "      <td>Released</td>\n",
       "      <td>Roll the dice and unleash the excitement!</td>\n",
       "      <td>Jumanji</td>\n",
       "      <td>6.9</td>\n",
       "      <td>1995</td>\n",
       "      <td>4.043035</td>\n",
       "      <td>United States of America</td>\n",
       "      <td>TriStar Pictures, Teitler Film, Interscope Com...</td>\n",
       "      <td>Adventure, Fantasy, Family</td>\n",
       "      <td>English, Français</td>\n",
       "    </tr>\n",
       "    <tr>\n",
       "      <th>2</th>\n",
       "      <td>{'id': 119050, 'name': 'Grumpy Old Men Collect...</td>\n",
       "      <td>0</td>\n",
       "      <td>[{'id': 10749, 'name': 'Romance'}, {'id': 35, ...</td>\n",
       "      <td>15602</td>\n",
       "      <td>en</td>\n",
       "      <td>A family wedding reignites the ancient feud be...</td>\n",
       "      <td>11.7129</td>\n",
       "      <td>[{'name': 'Warner Bros.', 'id': 6194}, {'name'...</td>\n",
       "      <td>[{'iso_3166_1': 'US', 'name': 'United States o...</td>\n",
       "      <td>1995-12-22</td>\n",
       "      <td>0.0</td>\n",
       "      <td>101.0</td>\n",
       "      <td>[{'iso_639_1': 'en', 'name': 'English'}]</td>\n",
       "      <td>Released</td>\n",
       "      <td>Still Yelling. Still Fighting. Still Ready for...</td>\n",
       "      <td>Grumpier Old Men</td>\n",
       "      <td>6.5</td>\n",
       "      <td>1995</td>\n",
       "      <td>0.000000</td>\n",
       "      <td>United States of America</td>\n",
       "      <td>Warner Bros., Lancaster Gate</td>\n",
       "      <td>Romance, Comedy</td>\n",
       "      <td>English</td>\n",
       "    </tr>\n",
       "  </tbody>\n",
       "</table>\n",
       "</div>"
      ],
      "text/plain": [
       "                               belongs_to_collection    budget  \\\n",
       "0  {'id': 10194, 'name': 'Toy Story Collection', ...  30000000   \n",
       "1                                                NaN  65000000   \n",
       "2  {'id': 119050, 'name': 'Grumpy Old Men Collect...         0   \n",
       "\n",
       "                                              genres     id original_language  \\\n",
       "0  [{'id': 16, 'name': 'Animation'}, {'id': 35, '...    862                en   \n",
       "1  [{'id': 12, 'name': 'Adventure'}, {'id': 14, '...   8844                en   \n",
       "2  [{'id': 10749, 'name': 'Romance'}, {'id': 35, ...  15602                en   \n",
       "\n",
       "                                            overview popularity  \\\n",
       "0  Led by Woody, Andy's toys live happily in his ...  21.946943   \n",
       "1  When siblings Judy and Peter discover an encha...  17.015539   \n",
       "2  A family wedding reignites the ancient feud be...    11.7129   \n",
       "\n",
       "                                production_companies  \\\n",
       "0     [{'name': 'Pixar Animation Studios', 'id': 3}]   \n",
       "1  [{'name': 'TriStar Pictures', 'id': 559}, {'na...   \n",
       "2  [{'name': 'Warner Bros.', 'id': 6194}, {'name'...   \n",
       "\n",
       "                                production_countries release_date  \\\n",
       "0  [{'iso_3166_1': 'US', 'name': 'United States o...   1995-10-30   \n",
       "1  [{'iso_3166_1': 'US', 'name': 'United States o...   1995-12-15   \n",
       "2  [{'iso_3166_1': 'US', 'name': 'United States o...   1995-12-22   \n",
       "\n",
       "       revenue  runtime                                   spoken_languages  \\\n",
       "0  373554033.0     81.0           [{'iso_639_1': 'en', 'name': 'English'}]   \n",
       "1  262797249.0    104.0  [{'iso_639_1': 'en', 'name': 'English'}, {'iso...   \n",
       "2          0.0    101.0           [{'iso_639_1': 'en', 'name': 'English'}]   \n",
       "\n",
       "     status                                            tagline  \\\n",
       "0  Released                                                NaN   \n",
       "1  Released          Roll the dice and unleash the excitement!   \n",
       "2  Released  Still Yelling. Still Fighting. Still Ready for...   \n",
       "\n",
       "              title  vote_average  release_year     return  \\\n",
       "0         Toy Story           7.7          1995  12.451801   \n",
       "1           Jumanji           6.9          1995   4.043035   \n",
       "2  Grumpier Old Men           6.5          1995   0.000000   \n",
       "\n",
       "               country_name  \\\n",
       "0  United States of America   \n",
       "1  United States of America   \n",
       "2  United States of America   \n",
       "\n",
       "                             name_production_compani  \\\n",
       "0                            Pixar Animation Studios   \n",
       "1  TriStar Pictures, Teitler Film, Interscope Com...   \n",
       "2                       Warner Bros., Lancaster Gate   \n",
       "\n",
       "                  name_genres     name_languages  \n",
       "0   Animation, Comedy, Family            English  \n",
       "1  Adventure, Fantasy, Family  English, Français  \n",
       "2             Romance, Comedy            English  "
      ]
     },
     "execution_count": 23,
     "metadata": {},
     "output_type": "execute_result"
    }
   ],
   "source": [
    "df_movies.head(3)"
   ]
  },
  {
   "cell_type": "code",
   "execution_count": 24,
   "id": "02acae19",
   "metadata": {},
   "outputs": [],
   "source": [
    "# funcion para optener el nombre de la franquicia \n",
    "def get_object_names2(x):\n",
    "    try:\n",
    "        object_dict = eval(x)\n",
    "        object_name = object_dict['name']\n",
    "        return object_name\n",
    "    except:\n",
    "        return 'sin dato'"
   ]
  },
  {
   "cell_type": "code",
   "execution_count": 25,
   "id": "49b02e8d",
   "metadata": {},
   "outputs": [],
   "source": [
    "# creo columna con el nombre de la franquicia \n",
    "df_movies['name_franquicia'] = df_movies['belongs_to_collection'].apply(get_object_names2)"
   ]
  },
  {
   "attachments": {},
   "cell_type": "markdown",
   "id": "e6f9e344",
   "metadata": {},
   "source": [
    "## columnas con nombre del dia y mes en español"
   ]
  },
  {
   "cell_type": "code",
   "execution_count": 26,
   "id": "cf2e3cd9",
   "metadata": {},
   "outputs": [],
   "source": [
    "# importo librerias \n",
    "from datetime import datetime\n",
    "import locale"
   ]
  },
  {
   "cell_type": "code",
   "execution_count": 27,
   "id": "acfb52ee",
   "metadata": {},
   "outputs": [
    {
     "data": {
      "text/plain": [
       "'es_ES.UTF-8'"
      ]
     },
     "execution_count": 27,
     "metadata": {},
     "output_type": "execute_result"
    }
   ],
   "source": [
    "# configuracion en español\n",
    "locale.setlocale(locale.LC_TIME, 'es_ES.UTF-8')"
   ]
  },
  {
   "cell_type": "code",
   "execution_count": 28,
   "id": "b016bad1",
   "metadata": {},
   "outputs": [],
   "source": [
    "# creo columna con el nombre de dia y mes \n",
    "df_movies['dia_es'] = df_movies['release_date'].apply(lambda x: datetime.strftime(x, '%A'))\n",
    "df_movies['mes_es'] = df_movies['release_date'].apply(lambda x: datetime.strftime(x, '%B'))"
   ]
  },
  {
   "cell_type": "code",
   "execution_count": 29,
   "id": "e4098a76",
   "metadata": {},
   "outputs": [
    {
     "data": {
      "text/html": [
       "<div>\n",
       "<style scoped>\n",
       "    .dataframe tbody tr th:only-of-type {\n",
       "        vertical-align: middle;\n",
       "    }\n",
       "\n",
       "    .dataframe tbody tr th {\n",
       "        vertical-align: top;\n",
       "    }\n",
       "\n",
       "    .dataframe thead th {\n",
       "        text-align: right;\n",
       "    }\n",
       "</style>\n",
       "<table border=\"1\" class=\"dataframe\">\n",
       "  <thead>\n",
       "    <tr style=\"text-align: right;\">\n",
       "      <th></th>\n",
       "      <th>belongs_to_collection</th>\n",
       "      <th>budget</th>\n",
       "      <th>genres</th>\n",
       "      <th>id</th>\n",
       "      <th>original_language</th>\n",
       "      <th>overview</th>\n",
       "      <th>popularity</th>\n",
       "      <th>production_companies</th>\n",
       "      <th>production_countries</th>\n",
       "      <th>release_date</th>\n",
       "      <th>revenue</th>\n",
       "      <th>runtime</th>\n",
       "      <th>spoken_languages</th>\n",
       "      <th>status</th>\n",
       "      <th>tagline</th>\n",
       "      <th>title</th>\n",
       "      <th>vote_average</th>\n",
       "      <th>release_year</th>\n",
       "      <th>return</th>\n",
       "      <th>country_name</th>\n",
       "      <th>name_production_compani</th>\n",
       "      <th>name_genres</th>\n",
       "      <th>name_languages</th>\n",
       "      <th>name_franquicia</th>\n",
       "      <th>dia_es</th>\n",
       "      <th>mes_es</th>\n",
       "    </tr>\n",
       "  </thead>\n",
       "  <tbody>\n",
       "    <tr>\n",
       "      <th>0</th>\n",
       "      <td>{'id': 10194, 'name': 'Toy Story Collection', ...</td>\n",
       "      <td>30000000</td>\n",
       "      <td>[{'id': 16, 'name': 'Animation'}, {'id': 35, '...</td>\n",
       "      <td>862</td>\n",
       "      <td>en</td>\n",
       "      <td>Led by Woody, Andy's toys live happily in his ...</td>\n",
       "      <td>21.946943</td>\n",
       "      <td>[{'name': 'Pixar Animation Studios', 'id': 3}]</td>\n",
       "      <td>[{'iso_3166_1': 'US', 'name': 'United States o...</td>\n",
       "      <td>1995-10-30</td>\n",
       "      <td>373554033.0</td>\n",
       "      <td>81.0</td>\n",
       "      <td>[{'iso_639_1': 'en', 'name': 'English'}]</td>\n",
       "      <td>Released</td>\n",
       "      <td>NaN</td>\n",
       "      <td>Toy Story</td>\n",
       "      <td>7.7</td>\n",
       "      <td>1995</td>\n",
       "      <td>12.451801</td>\n",
       "      <td>United States of America</td>\n",
       "      <td>Pixar Animation Studios</td>\n",
       "      <td>Animation, Comedy, Family</td>\n",
       "      <td>English</td>\n",
       "      <td>Toy Story Collection</td>\n",
       "      <td>lunes</td>\n",
       "      <td>octubre</td>\n",
       "    </tr>\n",
       "    <tr>\n",
       "      <th>1</th>\n",
       "      <td>NaN</td>\n",
       "      <td>65000000</td>\n",
       "      <td>[{'id': 12, 'name': 'Adventure'}, {'id': 14, '...</td>\n",
       "      <td>8844</td>\n",
       "      <td>en</td>\n",
       "      <td>When siblings Judy and Peter discover an encha...</td>\n",
       "      <td>17.015539</td>\n",
       "      <td>[{'name': 'TriStar Pictures', 'id': 559}, {'na...</td>\n",
       "      <td>[{'iso_3166_1': 'US', 'name': 'United States o...</td>\n",
       "      <td>1995-12-15</td>\n",
       "      <td>262797249.0</td>\n",
       "      <td>104.0</td>\n",
       "      <td>[{'iso_639_1': 'en', 'name': 'English'}, {'iso...</td>\n",
       "      <td>Released</td>\n",
       "      <td>Roll the dice and unleash the excitement!</td>\n",
       "      <td>Jumanji</td>\n",
       "      <td>6.9</td>\n",
       "      <td>1995</td>\n",
       "      <td>4.043035</td>\n",
       "      <td>United States of America</td>\n",
       "      <td>TriStar Pictures, Teitler Film, Interscope Com...</td>\n",
       "      <td>Adventure, Fantasy, Family</td>\n",
       "      <td>English, Français</td>\n",
       "      <td>sin dato</td>\n",
       "      <td>viernes</td>\n",
       "      <td>diciembre</td>\n",
       "    </tr>\n",
       "    <tr>\n",
       "      <th>2</th>\n",
       "      <td>{'id': 119050, 'name': 'Grumpy Old Men Collect...</td>\n",
       "      <td>0</td>\n",
       "      <td>[{'id': 10749, 'name': 'Romance'}, {'id': 35, ...</td>\n",
       "      <td>15602</td>\n",
       "      <td>en</td>\n",
       "      <td>A family wedding reignites the ancient feud be...</td>\n",
       "      <td>11.7129</td>\n",
       "      <td>[{'name': 'Warner Bros.', 'id': 6194}, {'name'...</td>\n",
       "      <td>[{'iso_3166_1': 'US', 'name': 'United States o...</td>\n",
       "      <td>1995-12-22</td>\n",
       "      <td>0.0</td>\n",
       "      <td>101.0</td>\n",
       "      <td>[{'iso_639_1': 'en', 'name': 'English'}]</td>\n",
       "      <td>Released</td>\n",
       "      <td>Still Yelling. Still Fighting. Still Ready for...</td>\n",
       "      <td>Grumpier Old Men</td>\n",
       "      <td>6.5</td>\n",
       "      <td>1995</td>\n",
       "      <td>0.000000</td>\n",
       "      <td>United States of America</td>\n",
       "      <td>Warner Bros., Lancaster Gate</td>\n",
       "      <td>Romance, Comedy</td>\n",
       "      <td>English</td>\n",
       "      <td>Grumpy Old Men Collection</td>\n",
       "      <td>viernes</td>\n",
       "      <td>diciembre</td>\n",
       "    </tr>\n",
       "  </tbody>\n",
       "</table>\n",
       "</div>"
      ],
      "text/plain": [
       "                               belongs_to_collection    budget  \\\n",
       "0  {'id': 10194, 'name': 'Toy Story Collection', ...  30000000   \n",
       "1                                                NaN  65000000   \n",
       "2  {'id': 119050, 'name': 'Grumpy Old Men Collect...         0   \n",
       "\n",
       "                                              genres     id original_language  \\\n",
       "0  [{'id': 16, 'name': 'Animation'}, {'id': 35, '...    862                en   \n",
       "1  [{'id': 12, 'name': 'Adventure'}, {'id': 14, '...   8844                en   \n",
       "2  [{'id': 10749, 'name': 'Romance'}, {'id': 35, ...  15602                en   \n",
       "\n",
       "                                            overview popularity  \\\n",
       "0  Led by Woody, Andy's toys live happily in his ...  21.946943   \n",
       "1  When siblings Judy and Peter discover an encha...  17.015539   \n",
       "2  A family wedding reignites the ancient feud be...    11.7129   \n",
       "\n",
       "                                production_companies  \\\n",
       "0     [{'name': 'Pixar Animation Studios', 'id': 3}]   \n",
       "1  [{'name': 'TriStar Pictures', 'id': 559}, {'na...   \n",
       "2  [{'name': 'Warner Bros.', 'id': 6194}, {'name'...   \n",
       "\n",
       "                                production_countries release_date  \\\n",
       "0  [{'iso_3166_1': 'US', 'name': 'United States o...   1995-10-30   \n",
       "1  [{'iso_3166_1': 'US', 'name': 'United States o...   1995-12-15   \n",
       "2  [{'iso_3166_1': 'US', 'name': 'United States o...   1995-12-22   \n",
       "\n",
       "       revenue  runtime                                   spoken_languages  \\\n",
       "0  373554033.0     81.0           [{'iso_639_1': 'en', 'name': 'English'}]   \n",
       "1  262797249.0    104.0  [{'iso_639_1': 'en', 'name': 'English'}, {'iso...   \n",
       "2          0.0    101.0           [{'iso_639_1': 'en', 'name': 'English'}]   \n",
       "\n",
       "     status                                            tagline  \\\n",
       "0  Released                                                NaN   \n",
       "1  Released          Roll the dice and unleash the excitement!   \n",
       "2  Released  Still Yelling. Still Fighting. Still Ready for...   \n",
       "\n",
       "              title  vote_average  release_year     return  \\\n",
       "0         Toy Story           7.7          1995  12.451801   \n",
       "1           Jumanji           6.9          1995   4.043035   \n",
       "2  Grumpier Old Men           6.5          1995   0.000000   \n",
       "\n",
       "               country_name  \\\n",
       "0  United States of America   \n",
       "1  United States of America   \n",
       "2  United States of America   \n",
       "\n",
       "                             name_production_compani  \\\n",
       "0                            Pixar Animation Studios   \n",
       "1  TriStar Pictures, Teitler Film, Interscope Com...   \n",
       "2                       Warner Bros., Lancaster Gate   \n",
       "\n",
       "                  name_genres     name_languages            name_franquicia  \\\n",
       "0   Animation, Comedy, Family            English       Toy Story Collection   \n",
       "1  Adventure, Fantasy, Family  English, Français                   sin dato   \n",
       "2             Romance, Comedy            English  Grumpy Old Men Collection   \n",
       "\n",
       "    dia_es     mes_es  \n",
       "0    lunes    octubre  \n",
       "1  viernes  diciembre  \n",
       "2  viernes  diciembre  "
      ]
     },
     "execution_count": 29,
     "metadata": {},
     "output_type": "execute_result"
    }
   ],
   "source": [
    "df_movies.head(3)"
   ]
  },
  {
   "cell_type": "code",
   "execution_count": 30,
   "id": "37f428a4",
   "metadata": {},
   "outputs": [
    {
     "data": {
      "text/html": [
       "<div>\n",
       "<style scoped>\n",
       "    .dataframe tbody tr th:only-of-type {\n",
       "        vertical-align: middle;\n",
       "    }\n",
       "\n",
       "    .dataframe tbody tr th {\n",
       "        vertical-align: top;\n",
       "    }\n",
       "\n",
       "    .dataframe thead th {\n",
       "        text-align: right;\n",
       "    }\n",
       "</style>\n",
       "<table border=\"1\" class=\"dataframe\">\n",
       "  <thead>\n",
       "    <tr style=\"text-align: right;\">\n",
       "      <th></th>\n",
       "      <th>dia_es</th>\n",
       "      <th>cantidad</th>\n",
       "    </tr>\n",
       "  </thead>\n",
       "  <tbody>\n",
       "    <tr>\n",
       "      <th>0</th>\n",
       "      <td>domingo</td>\n",
       "      <td>3613</td>\n",
       "    </tr>\n",
       "    <tr>\n",
       "      <th>1</th>\n",
       "      <td>jueves</td>\n",
       "      <td>7525</td>\n",
       "    </tr>\n",
       "    <tr>\n",
       "      <th>2</th>\n",
       "      <td>lunes</td>\n",
       "      <td>3503</td>\n",
       "    </tr>\n",
       "    <tr>\n",
       "      <th>3</th>\n",
       "      <td>martes</td>\n",
       "      <td>4641</td>\n",
       "    </tr>\n",
       "    <tr>\n",
       "      <th>4</th>\n",
       "      <td>miÃ©rcoles</td>\n",
       "      <td>7035</td>\n",
       "    </tr>\n",
       "    <tr>\n",
       "      <th>5</th>\n",
       "      <td>sÃ¡bado</td>\n",
       "      <td>5151</td>\n",
       "    </tr>\n",
       "    <tr>\n",
       "      <th>6</th>\n",
       "      <td>viernes</td>\n",
       "      <td>13908</td>\n",
       "    </tr>\n",
       "  </tbody>\n",
       "</table>\n",
       "</div>"
      ],
      "text/plain": [
       "       dia_es  cantidad\n",
       "0     domingo      3613\n",
       "1      jueves      7525\n",
       "2       lunes      3503\n",
       "3      martes      4641\n",
       "4  miÃ©rcoles      7035\n",
       "5     sÃ¡bado      5151\n",
       "6     viernes     13908"
      ]
     },
     "execution_count": 30,
     "metadata": {},
     "output_type": "execute_result"
    }
   ],
   "source": [
    "# verifico que algunos dias tienen errores \n",
    "df_movies.groupby('dia_es').size().reset_index(name='cantidad')\n"
   ]
  },
  {
   "cell_type": "code",
   "execution_count": 31,
   "id": "a4cf5026",
   "metadata": {},
   "outputs": [],
   "source": [
    "# df['dia'] = df['dia'].replace(nombres_nuevos)\n",
    "remplazar = {'miÃ©rcoles':'miercoles', 'sÃ¡bado':'sabado'}\n",
    "df_movies['dia_es'] = df_movies['dia_es'].replace(remplazar)"
   ]
  },
  {
   "cell_type": "code",
   "execution_count": null,
   "id": "fe92c8be",
   "metadata": {},
   "outputs": [],
   "source": []
  },
  {
   "attachments": {},
   "cell_type": "markdown",
   "id": "18483237",
   "metadata": {},
   "source": [
    "## borro columnas con data duplicada  "
   ]
  },
  {
   "cell_type": "code",
   "execution_count": 32,
   "id": "9e48e6d4",
   "metadata": {},
   "outputs": [],
   "source": [
    "data_duplicada = ['belongs_to_collection', 'genres', 'production_companies', 'production_countries', 'spoken_languages']\n",
    "\n",
    "df_movies = df_movies.drop(data_duplicada, axis=1)"
   ]
  },
  {
   "cell_type": "code",
   "execution_count": 33,
   "id": "dc153e41",
   "metadata": {},
   "outputs": [
    {
     "data": {
      "text/html": [
       "<div>\n",
       "<style scoped>\n",
       "    .dataframe tbody tr th:only-of-type {\n",
       "        vertical-align: middle;\n",
       "    }\n",
       "\n",
       "    .dataframe tbody tr th {\n",
       "        vertical-align: top;\n",
       "    }\n",
       "\n",
       "    .dataframe thead th {\n",
       "        text-align: right;\n",
       "    }\n",
       "</style>\n",
       "<table border=\"1\" class=\"dataframe\">\n",
       "  <thead>\n",
       "    <tr style=\"text-align: right;\">\n",
       "      <th></th>\n",
       "      <th>budget</th>\n",
       "      <th>id</th>\n",
       "      <th>original_language</th>\n",
       "      <th>overview</th>\n",
       "      <th>popularity</th>\n",
       "      <th>release_date</th>\n",
       "      <th>revenue</th>\n",
       "      <th>runtime</th>\n",
       "      <th>status</th>\n",
       "      <th>tagline</th>\n",
       "      <th>title</th>\n",
       "      <th>vote_average</th>\n",
       "      <th>release_year</th>\n",
       "      <th>return</th>\n",
       "      <th>country_name</th>\n",
       "      <th>name_production_compani</th>\n",
       "      <th>name_genres</th>\n",
       "      <th>name_languages</th>\n",
       "      <th>name_franquicia</th>\n",
       "      <th>dia_es</th>\n",
       "      <th>mes_es</th>\n",
       "    </tr>\n",
       "  </thead>\n",
       "  <tbody>\n",
       "    <tr>\n",
       "      <th>0</th>\n",
       "      <td>30000000</td>\n",
       "      <td>862</td>\n",
       "      <td>en</td>\n",
       "      <td>Led by Woody, Andy's toys live happily in his ...</td>\n",
       "      <td>21.946943</td>\n",
       "      <td>1995-10-30</td>\n",
       "      <td>373554033.0</td>\n",
       "      <td>81.0</td>\n",
       "      <td>Released</td>\n",
       "      <td>NaN</td>\n",
       "      <td>Toy Story</td>\n",
       "      <td>7.7</td>\n",
       "      <td>1995</td>\n",
       "      <td>12.451801</td>\n",
       "      <td>United States of America</td>\n",
       "      <td>Pixar Animation Studios</td>\n",
       "      <td>Animation, Comedy, Family</td>\n",
       "      <td>English</td>\n",
       "      <td>Toy Story Collection</td>\n",
       "      <td>lunes</td>\n",
       "      <td>octubre</td>\n",
       "    </tr>\n",
       "    <tr>\n",
       "      <th>1</th>\n",
       "      <td>65000000</td>\n",
       "      <td>8844</td>\n",
       "      <td>en</td>\n",
       "      <td>When siblings Judy and Peter discover an encha...</td>\n",
       "      <td>17.015539</td>\n",
       "      <td>1995-12-15</td>\n",
       "      <td>262797249.0</td>\n",
       "      <td>104.0</td>\n",
       "      <td>Released</td>\n",
       "      <td>Roll the dice and unleash the excitement!</td>\n",
       "      <td>Jumanji</td>\n",
       "      <td>6.9</td>\n",
       "      <td>1995</td>\n",
       "      <td>4.043035</td>\n",
       "      <td>United States of America</td>\n",
       "      <td>TriStar Pictures, Teitler Film, Interscope Com...</td>\n",
       "      <td>Adventure, Fantasy, Family</td>\n",
       "      <td>English, Français</td>\n",
       "      <td>sin dato</td>\n",
       "      <td>viernes</td>\n",
       "      <td>diciembre</td>\n",
       "    </tr>\n",
       "    <tr>\n",
       "      <th>2</th>\n",
       "      <td>0</td>\n",
       "      <td>15602</td>\n",
       "      <td>en</td>\n",
       "      <td>A family wedding reignites the ancient feud be...</td>\n",
       "      <td>11.7129</td>\n",
       "      <td>1995-12-22</td>\n",
       "      <td>0.0</td>\n",
       "      <td>101.0</td>\n",
       "      <td>Released</td>\n",
       "      <td>Still Yelling. Still Fighting. Still Ready for...</td>\n",
       "      <td>Grumpier Old Men</td>\n",
       "      <td>6.5</td>\n",
       "      <td>1995</td>\n",
       "      <td>0.000000</td>\n",
       "      <td>United States of America</td>\n",
       "      <td>Warner Bros., Lancaster Gate</td>\n",
       "      <td>Romance, Comedy</td>\n",
       "      <td>English</td>\n",
       "      <td>Grumpy Old Men Collection</td>\n",
       "      <td>viernes</td>\n",
       "      <td>diciembre</td>\n",
       "    </tr>\n",
       "  </tbody>\n",
       "</table>\n",
       "</div>"
      ],
      "text/plain": [
       "     budget     id original_language  \\\n",
       "0  30000000    862                en   \n",
       "1  65000000   8844                en   \n",
       "2         0  15602                en   \n",
       "\n",
       "                                            overview popularity release_date  \\\n",
       "0  Led by Woody, Andy's toys live happily in his ...  21.946943   1995-10-30   \n",
       "1  When siblings Judy and Peter discover an encha...  17.015539   1995-12-15   \n",
       "2  A family wedding reignites the ancient feud be...    11.7129   1995-12-22   \n",
       "\n",
       "       revenue  runtime    status  \\\n",
       "0  373554033.0     81.0  Released   \n",
       "1  262797249.0    104.0  Released   \n",
       "2          0.0    101.0  Released   \n",
       "\n",
       "                                             tagline             title  \\\n",
       "0                                                NaN         Toy Story   \n",
       "1          Roll the dice and unleash the excitement!           Jumanji   \n",
       "2  Still Yelling. Still Fighting. Still Ready for...  Grumpier Old Men   \n",
       "\n",
       "   vote_average  release_year     return              country_name  \\\n",
       "0           7.7          1995  12.451801  United States of America   \n",
       "1           6.9          1995   4.043035  United States of America   \n",
       "2           6.5          1995   0.000000  United States of America   \n",
       "\n",
       "                             name_production_compani  \\\n",
       "0                            Pixar Animation Studios   \n",
       "1  TriStar Pictures, Teitler Film, Interscope Com...   \n",
       "2                       Warner Bros., Lancaster Gate   \n",
       "\n",
       "                  name_genres     name_languages            name_franquicia  \\\n",
       "0   Animation, Comedy, Family            English       Toy Story Collection   \n",
       "1  Adventure, Fantasy, Family  English, Français                   sin dato   \n",
       "2             Romance, Comedy            English  Grumpy Old Men Collection   \n",
       "\n",
       "    dia_es     mes_es  \n",
       "0    lunes    octubre  \n",
       "1  viernes  diciembre  \n",
       "2  viernes  diciembre  "
      ]
     },
     "execution_count": 33,
     "metadata": {},
     "output_type": "execute_result"
    }
   ],
   "source": [
    "df_movies.head(3)"
   ]
  },
  {
   "cell_type": "code",
   "execution_count": 34,
   "id": "98f4b720",
   "metadata": {},
   "outputs": [
    {
     "name": "stdout",
     "output_type": "stream",
     "text": [
      "<class 'pandas.core.frame.DataFrame'>\n",
      "Int64Index: 45376 entries, 0 to 45465\n",
      "Data columns (total 21 columns):\n",
      " #   Column                   Non-Null Count  Dtype         \n",
      "---  ------                   --------------  -----         \n",
      " 0   budget                   45376 non-null  int64         \n",
      " 1   id                       45376 non-null  object        \n",
      " 2   original_language        45365 non-null  object        \n",
      " 3   overview                 44435 non-null  object        \n",
      " 4   popularity               45376 non-null  object        \n",
      " 5   release_date             45376 non-null  datetime64[ns]\n",
      " 6   revenue                  45376 non-null  float64       \n",
      " 7   runtime                  45130 non-null  float64       \n",
      " 8   status                   45296 non-null  object        \n",
      " 9   tagline                  20398 non-null  object        \n",
      " 10  title                    45376 non-null  object        \n",
      " 11  vote_average             45376 non-null  float64       \n",
      " 12  release_year             45376 non-null  int64         \n",
      " 13  return                   45376 non-null  float64       \n",
      " 14  country_name             45376 non-null  object        \n",
      " 15  name_production_compani  45376 non-null  object        \n",
      " 16  name_genres              45376 non-null  object        \n",
      " 17  name_languages           45376 non-null  object        \n",
      " 18  name_franquicia          45376 non-null  object        \n",
      " 19  dia_es                   45376 non-null  object        \n",
      " 20  mes_es                   45376 non-null  object        \n",
      "dtypes: datetime64[ns](1), float64(4), int64(2), object(14)\n",
      "memory usage: 7.6+ MB\n"
     ]
    }
   ],
   "source": [
    "df_movies.info()"
   ]
  },
  {
   "attachments": {},
   "cell_type": "markdown",
   "id": "1f301b75",
   "metadata": {},
   "source": [
    " - exporto a un CSV para ser consumido por la API\n",
    " "
   ]
  },
  {
   "cell_type": "code",
   "execution_count": 31,
   "id": "e1f34fe7",
   "metadata": {},
   "outputs": [],
   "source": [
    "df_movies.to_csv('movies_etl-1.csv', index=False)"
   ]
  },
  {
   "attachments": {},
   "cell_type": "markdown",
   "id": "1ecc81f7",
   "metadata": {},
   "source": [
    "# EDA"
   ]
  },
  {
   "cell_type": "code",
   "execution_count": 36,
   "id": "ff34281a",
   "metadata": {},
   "outputs": [
    {
     "data": {
      "text/plain": [
       "tagline                    24978\n",
       "overview                     941\n",
       "runtime                      246\n",
       "status                        80\n",
       "original_language             11\n",
       "budget                         0\n",
       "return                         0\n",
       "dia_es                         0\n",
       "name_franquicia                0\n",
       "name_languages                 0\n",
       "name_genres                    0\n",
       "name_production_compani        0\n",
       "country_name                   0\n",
       "title                          0\n",
       "release_year                   0\n",
       "vote_average                   0\n",
       "id                             0\n",
       "revenue                        0\n",
       "release_date                   0\n",
       "popularity                     0\n",
       "mes_es                         0\n",
       "dtype: int64"
      ]
     },
     "execution_count": 36,
     "metadata": {},
     "output_type": "execute_result"
    }
   ],
   "source": [
    "# numero de filas faltantes en cada columna\n",
    "df_movies.isnull().sum().sort_values(ascending=False)"
   ]
  },
  {
   "cell_type": "code",
   "execution_count": 34,
   "id": "04fefe84",
   "metadata": {},
   "outputs": [
    {
     "name": "stdout",
     "output_type": "stream",
     "text": [
      "budget: 0.0\n",
      "id: 0.0\n",
      "original_language: 0.02\n",
      "overview: 2.07\n",
      "popularity: 0.0\n",
      "release_date: 0.0\n",
      "revenue: 0.0\n",
      "runtime: 0.54\n",
      "status: 0.18\n",
      "tagline: 55.05\n",
      "title: 0.0\n",
      "vote_average: 0.0\n",
      "release_year: 0.0\n",
      "return: 0.0\n",
      "country_name: 0.0\n",
      "name_production_compani: 0.0\n",
      "name_genres: 0.0\n",
      "name_languages: 0.0\n",
      "name_franquicia: 0.0\n",
      "dia_es: 0.0\n",
      "mes_es: 0.0\n"
     ]
    }
   ],
   "source": [
    "# % de filas faltantes de cada columna \n",
    "\n",
    "for column in df_movies.columns:\n",
    "    percentage = df_movies[column].isnull().mean()  \n",
    "    print(column + ': ' + str(round(percentage*100, 2))) "
   ]
  },
  {
   "attachments": {},
   "cell_type": "markdown",
   "id": "4bd17b4c",
   "metadata": {},
   "source": [
    " - podemos apreciar que hay al menos  1 columna \"tagline\"  que tiene data faltante significativa(55%) \n",
    " \n",
    "   esta columna guarda datos de (Frase celebre asociadaa la pelicula)\n",
    "   "
   ]
  },
  {
   "attachments": {},
   "cell_type": "markdown",
   "id": "acdef14a",
   "metadata": {},
   "source": [
    " -  overview / Pequenio resumen de la pelicula "
   ]
  },
  {
   "attachments": {},
   "cell_type": "markdown",
   "id": "3b771c13",
   "metadata": {},
   "source": [
    "- runtime / Duración de la película, en minutos "
   ]
  },
  {
   "attachments": {},
   "cell_type": "markdown",
   "id": "01365f08",
   "metadata": {},
   "source": [
    "- status / Estado de la pelicula actual (si fue anunciada, si ya se estreno, etc)"
   ]
  },
  {
   "attachments": {},
   "cell_type": "markdown",
   "id": "c379431a",
   "metadata": {},
   "source": [
    "- original_language / lenguaje original  - la data faltante es minima"
   ]
  },
  {
   "attachments": {},
   "cell_type": "markdown",
   "id": "e73285e9",
   "metadata": {},
   "source": [
    "# Identifico Valores Atipicos "
   ]
  },
  {
   "attachments": {},
   "cell_type": "markdown",
   "id": "ae373100",
   "metadata": {},
   "source": [
    "## Valores atipocos en duracion de pelicula "
   ]
  },
  {
   "cell_type": "code",
   "execution_count": 37,
   "id": "08978671",
   "metadata": {},
   "outputs": [
    {
     "data": {
      "text/plain": [
       "<AxesSubplot:ylabel='Frequency'>"
      ]
     },
     "execution_count": 37,
     "metadata": {},
     "output_type": "execute_result"
    },
    {
     "data": {
      "image/png": "[encoded data removed]",
      "text/plain": [
       "<Figure size 640x480 with 1 Axes>"
      ]
     },
     "metadata": {},
     "output_type": "display_data"
    }
   ],
   "source": [
    "# histograma  \n",
    "df_movies['runtime'].plot(kind='hist', bins=15)"
   ]
  },
  {
   "cell_type": "code",
   "execution_count": 65,
   "id": "b7967a6a",
   "metadata": {},
   "outputs": [
    {
     "data": {
      "text/plain": [
       "(-1.257, 62.8]       3897\n",
       "(62.8, 125.6]       36658\n",
       "(125.6, 188.4]       3458\n",
       "(188.4, 251.2]        246\n",
       "(251.2, 314.0]         72\n",
       "(314.0, 376.8]         42\n",
       "(376.8, 439.6]         18\n",
       "(439.6, 502.4]         15\n",
       "(502.4, 565.2]          8\n",
       "(565.2, 628.0]          5\n",
       "(628.0, 690.8]          3\n",
       "(690.8, 753.6]          2\n",
       "(753.6, 816.4]          1\n",
       "(816.4, 879.2]          4\n",
       "(879.2, 942.0]          3\n",
       "(942.0, 1004.8]         0\n",
       "(1004.8, 1067.6]        0\n",
       "(1067.6, 1130.4]        0\n",
       "(1130.4, 1193.2]        2\n",
       "(1193.2, 1256.0]        1\n",
       "Name: runtime, dtype: int64"
      ]
     },
     "execution_count": 65,
     "metadata": {},
     "output_type": "execute_result"
    }
   ],
   "source": [
    "# detalle \n",
    "df_movies['runtime'].value_counts(bins=20).sort_index()"
   ]
  },
  {
   "cell_type": "code",
   "execution_count": 80,
   "id": "c032e617",
   "metadata": {},
   "outputs": [],
   "source": [
    "# df_movies[~((df_movies['runtime']>30) & (df_movies['runtime']<251))]\n",
    "# df_movies[df_movies['runtime']>251]\n",
    "# df_movies[df_movies['runtime'] == 0]\n"
   ]
  },
  {
   "cell_type": "code",
   "execution_count": 165,
   "id": "95c6d47c",
   "metadata": {},
   "outputs": [],
   "source": [
    "# filtro datos muy atipicos  \n",
    "df_movies = df_movies[((df_movies['runtime']>30) & (df_movies['runtime']<251))]"
   ]
  },
  {
   "cell_type": "code",
   "execution_count": 84,
   "id": "0daf4ce4",
   "metadata": {},
   "outputs": [
    {
     "data": {
      "text/plain": [
       "(30.779999999999998, 41.95]      188\n",
       "(41.95, 52.9]                    413\n",
       "(52.9, 63.85]                    924\n",
       "(63.85, 74.8]                   1597\n",
       "(74.8, 85.75]                   5602\n",
       "(85.75, 96.7]                  13121\n",
       "(96.7, 107.65]                  9390\n",
       "(107.65, 118.6]                 4881\n",
       "(118.6, 129.55]                 2626\n",
       "(129.55, 140.5]                 1282\n",
       "(140.5, 151.45]                  607\n",
       "(151.45, 162.4]                  373\n",
       "(162.4, 173.35]                  264\n",
       "(173.35, 184.3]                  245\n",
       "(184.3, 195.25]                   92\n",
       "(195.25, 206.2]                   54\n",
       "(206.2, 217.15]                   45\n",
       "(217.15, 228.1]                   23\n",
       "(228.1, 239.05]                   25\n",
       "(239.05, 250.0]                   44\n",
       "Name: runtime, dtype: int64"
      ]
     },
     "execution_count": 84,
     "metadata": {},
     "output_type": "execute_result"
    }
   ],
   "source": [
    "df_movies['runtime'].value_counts(bins=20).sort_index()"
   ]
  },
  {
   "cell_type": "code",
   "execution_count": 83,
   "id": "6dd4e054",
   "metadata": {},
   "outputs": [
    {
     "data": {
      "text/plain": [
       "<AxesSubplot:>"
      ]
     },
     "execution_count": 83,
     "metadata": {},
     "output_type": "execute_result"
    },
    {
     "data": {
      "image/png": "[encoded data removed]",
      "text/plain": [
       "<Figure size 1000x500 with 1 Axes>"
      ]
     },
     "metadata": {},
     "output_type": "display_data"
    }
   ],
   "source": [
    "# boxplot para ver mejor los valores atipicos \n",
    "df_movies['runtime'].plot(kind='box', vert=False, color='blue',\n",
    "                        figsize=(10,5))"
   ]
  },
  {
   "cell_type": "code",
   "execution_count": 166,
   "id": "415edbe9",
   "metadata": {},
   "outputs": [],
   "source": [
    "# filtro datos atipicos  \n",
    "df_movies = df_movies[((df_movies['runtime']>60) & (df_movies['runtime']<140))]"
   ]
  },
  {
   "cell_type": "code",
   "execution_count": 88,
   "id": "f7fdf801",
   "metadata": {},
   "outputs": [
    {
     "data": {
      "text/plain": [
       "(38624, 19)"
      ]
     },
     "execution_count": 88,
     "metadata": {},
     "output_type": "execute_result"
    }
   ],
   "source": [
    "df_movies.shape"
   ]
  },
  {
   "attachments": {},
   "cell_type": "markdown",
   "id": "3cc7ec80",
   "metadata": {},
   "source": [
    "## valores atipicos en puntage promedio\n"
   ]
  },
  {
   "cell_type": "code",
   "execution_count": 93,
   "id": "eabd4043",
   "metadata": {},
   "outputs": [
    {
     "data": {
      "text/plain": [
       "<AxesSubplot:ylabel='Frequency'>"
      ]
     },
     "execution_count": 93,
     "metadata": {},
     "output_type": "execute_result"
    },
    {
     "data": {
      "image/png": "[encoded data removed]",
      "text/plain": [
       "<Figure size 640x480 with 1 Axes>"
      ]
     },
     "metadata": {},
     "output_type": "display_data"
    }
   ],
   "source": [
    "# histograma  \n",
    "df_movies['vote_average'].plot(kind='hist', bins=20)"
   ]
  },
  {
   "cell_type": "code",
   "execution_count": 91,
   "id": "752e59fe",
   "metadata": {},
   "outputs": [
    {
     "data": {
      "text/plain": [
       "(-0.011, 0.5]    2052\n",
       "(0.5, 1.0]         78\n",
       "(1.0, 1.5]         44\n",
       "(1.5, 2.0]        125\n",
       "(2.0, 2.5]        198\n",
       "(2.5, 3.0]        380\n",
       "(3.0, 3.5]        567\n",
       "(3.5, 4.0]       1243\n",
       "(4.0, 4.5]       1622\n",
       "(4.5, 5.0]       3540\n",
       "(5.0, 5.5]       4272\n",
       "(5.5, 6.0]       6301\n",
       "(6.0, 6.5]       6410\n",
       "(6.5, 7.0]       5788\n",
       "(7.0, 7.5]       3452\n",
       "(7.5, 8.0]       1790\n",
       "(8.0, 8.5]        424\n",
       "(8.5, 9.0]        177\n",
       "(9.0, 9.5]         30\n",
       "(9.5, 10.0]       131\n",
       "Name: vote_average, dtype: int64"
      ]
     },
     "execution_count": 91,
     "metadata": {},
     "output_type": "execute_result"
    }
   ],
   "source": [
    "df_movies['vote_average'].value_counts(bins=20).sort_index()"
   ]
  },
  {
   "attachments": {},
   "cell_type": "markdown",
   "id": "5add3fd4",
   "metadata": {},
   "source": [
    "- popularity"
   ]
  },
  {
   "cell_type": "code",
   "execution_count": 167,
   "id": "82a4fad8",
   "metadata": {},
   "outputs": [],
   "source": [
    " #Convierto la columna \"popularity\" a float\n",
    "df_movies['popularity'] = df_movies['popularity'].astype(float)"
   ]
  },
  {
   "cell_type": "code",
   "execution_count": 99,
   "id": "f77a3950",
   "metadata": {},
   "outputs": [
    {
     "data": {
      "text/plain": [
       "budget                              int64\n",
       "id                                 object\n",
       "original_language                  object\n",
       "overview                           object\n",
       "popularity                        float64\n",
       "release_date               datetime64[ns]\n",
       "revenue                           float64\n",
       "runtime                           float64\n",
       "title                              object\n",
       "vote_average                      float64\n",
       "release_year                        int64\n",
       "return                            float64\n",
       "country_name                       object\n",
       "name_production_compani            object\n",
       "name_genres                        object\n",
       "name_languages                     object\n",
       "name_franquicia                    object\n",
       "dia_es                             object\n",
       "mes_es                             object\n",
       "dtype: object"
      ]
     },
     "execution_count": 99,
     "metadata": {},
     "output_type": "execute_result"
    }
   ],
   "source": [
    "df_movies.dtypes"
   ]
  },
  {
   "cell_type": "code",
   "execution_count": 101,
   "id": "eed29d6f",
   "metadata": {},
   "outputs": [
    {
     "data": {
      "text/plain": [
       "(-0.548, 27.374]      38524\n",
       "(27.374, 54.749]         78\n",
       "(54.749, 82.123]         10\n",
       "(82.123, 109.498]         3\n",
       "(109.498, 136.872]        1\n",
       "(136.872, 164.246]        1\n",
       "(164.246, 191.621]        3\n",
       "(191.621, 218.995]        1\n",
       "(218.995, 246.37]         1\n",
       "(246.37, 273.744]         0\n",
       "(273.744, 301.119]        1\n",
       "(301.119, 328.493]        0\n",
       "(328.493, 355.867]        0\n",
       "(355.867, 383.242]        0\n",
       "(383.242, 410.616]        0\n",
       "(410.616, 437.991]        0\n",
       "(437.991, 465.365]        0\n",
       "(465.365, 492.739]        0\n",
       "(492.739, 520.114]        0\n",
       "(520.114, 547.488]        1\n",
       "Name: popularity, dtype: int64"
      ]
     },
     "execution_count": 101,
     "metadata": {},
     "output_type": "execute_result"
    }
   ],
   "source": [
    "df_movies['popularity'].value_counts(bins=20).sort_index()"
   ]
  },
  {
   "cell_type": "code",
   "execution_count": 168,
   "id": "252887df",
   "metadata": {},
   "outputs": [],
   "source": [
    "# filtro datos atipicos  \n",
    "df_movies = df_movies[df_movies['popularity']<82.123]"
   ]
  },
  {
   "cell_type": "code",
   "execution_count": 108,
   "id": "049952fe",
   "metadata": {},
   "outputs": [
    {
     "data": {
      "text/plain": [
       "(-0.0798, 3.94]     28503\n",
       "(3.94, 7.881]        5455\n",
       "(7.881, 11.821]      3034\n",
       "(11.821, 15.761]     1126\n",
       "(15.761, 19.702]      288\n",
       "(19.702, 23.642]       80\n",
       "(23.642, 27.583]       40\n",
       "(27.583, 31.523]       23\n",
       "(31.523, 35.463]       18\n",
       "(35.463, 39.404]       15\n",
       "(39.404, 43.344]        9\n",
       "(43.344, 47.284]        4\n",
       "(47.284, 51.225]        4\n",
       "(51.225, 55.165]        3\n",
       "(55.165, 59.105]        0\n",
       "(59.105, 63.046]        2\n",
       "(63.046, 66.986]        2\n",
       "(66.986, 70.926]        2\n",
       "(70.926, 74.867]        1\n",
       "(74.867, 78.807]        3\n",
       "Name: popularity, dtype: int64"
      ]
     },
     "execution_count": 108,
     "metadata": {},
     "output_type": "execute_result"
    }
   ],
   "source": [
    "df_movies['popularity'].value_counts(bins=20).sort_index()"
   ]
  },
  {
   "cell_type": "code",
   "execution_count": 107,
   "id": "cdfb913a",
   "metadata": {},
   "outputs": [
    {
     "data": {
      "text/plain": [
       "<AxesSubplot:>"
      ]
     },
     "execution_count": 107,
     "metadata": {},
     "output_type": "execute_result"
    },
    {
     "data": {
      "image/png": "[encoded data removed]",
      "text/plain": [
       "<Figure size 1000x500 with 1 Axes>"
      ]
     },
     "metadata": {},
     "output_type": "display_data"
    }
   ],
   "source": [
    "# boxplot para ver mejor los valores atipicos \n",
    "df_movies['popularity'].plot(kind='box', vert=False, color='blue',\n",
    "                        figsize=(10,5))"
   ]
  },
  {
   "cell_type": "code",
   "execution_count": 169,
   "id": "7abcec86",
   "metadata": {},
   "outputs": [],
   "source": [
    "# filtro datos atipicos  \n",
    "df_movies = df_movies[df_movies['popularity']<11.80]\n"
   ]
  },
  {
   "cell_type": "code",
   "execution_count": 38,
   "id": "798f0cb8",
   "metadata": {},
   "outputs": [
    {
     "data": {
      "text/plain": [
       "(45376, 21)"
      ]
     },
     "execution_count": 38,
     "metadata": {},
     "output_type": "execute_result"
    }
   ],
   "source": [
    "df_movies.shape"
   ]
  },
  {
   "attachments": {},
   "cell_type": "markdown",
   "id": "667e2652",
   "metadata": {},
   "source": [
    "- visualizacion por mes "
   ]
  },
  {
   "cell_type": "code",
   "execution_count": 170,
   "id": "28bb95da",
   "metadata": {},
   "outputs": [],
   "source": [
    "import seaborn as sns\n",
    "import matplotlib.pyplot as plt"
   ]
  },
  {
   "cell_type": "code",
   "execution_count": 121,
   "id": "05b923c3",
   "metadata": {},
   "outputs": [
    {
     "data": {
      "image/png": "[encoded data removed]",
      "text/plain": [
       "<Figure size 1200x500 with 1 Axes>"
      ]
     },
     "metadata": {},
     "output_type": "display_data"
    }
   ],
   "source": [
    "plt.figure(figsize=(12, 5))\n",
    "sns.countplot(x='mes_es', data=df_movies, order=df_movies['mes_es'].value_counts().index)\n",
    "plt.show()"
   ]
  },
  {
   "cell_type": "code",
   "execution_count": 39,
   "id": "dd277364",
   "metadata": {},
   "outputs": [],
   "source": [
    "# normalizar titulos a minisculas para mejorar busquedas  \n",
    "df_movies['title'] = df_movies['title'].str.lower()"
   ]
  },
  {
   "cell_type": "code",
   "execution_count": 40,
   "id": "c5cba277",
   "metadata": {},
   "outputs": [],
   "source": [
    "# eliminar espacios delanteros y finales con el metodo strip()\n",
    "df_movies['title'] = df_movies['title'].str.strip()"
   ]
  },
  {
   "cell_type": "code",
   "execution_count": 41,
   "id": "3de10681",
   "metadata": {
    "scrolled": true
   },
   "outputs": [
    {
     "data": {
      "text/html": [
       "<div>\n",
       "<style scoped>\n",
       "    .dataframe tbody tr th:only-of-type {\n",
       "        vertical-align: middle;\n",
       "    }\n",
       "\n",
       "    .dataframe tbody tr th {\n",
       "        vertical-align: top;\n",
       "    }\n",
       "\n",
       "    .dataframe thead th {\n",
       "        text-align: right;\n",
       "    }\n",
       "</style>\n",
       "<table border=\"1\" class=\"dataframe\">\n",
       "  <thead>\n",
       "    <tr style=\"text-align: right;\">\n",
       "      <th></th>\n",
       "      <th>budget</th>\n",
       "      <th>id</th>\n",
       "      <th>original_language</th>\n",
       "      <th>overview</th>\n",
       "      <th>popularity</th>\n",
       "      <th>release_date</th>\n",
       "      <th>revenue</th>\n",
       "      <th>runtime</th>\n",
       "      <th>status</th>\n",
       "      <th>tagline</th>\n",
       "      <th>title</th>\n",
       "      <th>vote_average</th>\n",
       "      <th>release_year</th>\n",
       "      <th>return</th>\n",
       "      <th>country_name</th>\n",
       "      <th>name_production_compani</th>\n",
       "      <th>name_genres</th>\n",
       "      <th>name_languages</th>\n",
       "      <th>name_franquicia</th>\n",
       "      <th>dia_es</th>\n",
       "      <th>mes_es</th>\n",
       "    </tr>\n",
       "  </thead>\n",
       "  <tbody>\n",
       "    <tr>\n",
       "      <th>45463</th>\n",
       "      <td>0</td>\n",
       "      <td>67758</td>\n",
       "      <td>en</td>\n",
       "      <td>When one of her hits goes wrong, a professiona...</td>\n",
       "      <td>0.903007</td>\n",
       "      <td>2003-08-01</td>\n",
       "      <td>0.0</td>\n",
       "      <td>90.0</td>\n",
       "      <td>Released</td>\n",
       "      <td>A deadly game of wits.</td>\n",
       "      <td>betrayal</td>\n",
       "      <td>3.8</td>\n",
       "      <td>2003</td>\n",
       "      <td>0.0</td>\n",
       "      <td>United States of America</td>\n",
       "      <td>American World Pictures</td>\n",
       "      <td>Action, Drama, Thriller</td>\n",
       "      <td>English</td>\n",
       "      <td>sin dato</td>\n",
       "      <td>viernes</td>\n",
       "      <td>agosto</td>\n",
       "    </tr>\n",
       "    <tr>\n",
       "      <th>45464</th>\n",
       "      <td>0</td>\n",
       "      <td>227506</td>\n",
       "      <td>en</td>\n",
       "      <td>In a small town live two brothers, one a minis...</td>\n",
       "      <td>0.003503</td>\n",
       "      <td>1917-10-21</td>\n",
       "      <td>0.0</td>\n",
       "      <td>87.0</td>\n",
       "      <td>Released</td>\n",
       "      <td>NaN</td>\n",
       "      <td>satan triumphant</td>\n",
       "      <td>0.0</td>\n",
       "      <td>1917</td>\n",
       "      <td>0.0</td>\n",
       "      <td>Russia</td>\n",
       "      <td>Yermoliev</td>\n",
       "      <td></td>\n",
       "      <td></td>\n",
       "      <td>sin dato</td>\n",
       "      <td>domingo</td>\n",
       "      <td>octubre</td>\n",
       "    </tr>\n",
       "    <tr>\n",
       "      <th>45465</th>\n",
       "      <td>0</td>\n",
       "      <td>461257</td>\n",
       "      <td>en</td>\n",
       "      <td>50 years after decriminalisation of homosexual...</td>\n",
       "      <td>0.163015</td>\n",
       "      <td>2017-06-09</td>\n",
       "      <td>0.0</td>\n",
       "      <td>75.0</td>\n",
       "      <td>Released</td>\n",
       "      <td>NaN</td>\n",
       "      <td>queerama</td>\n",
       "      <td>0.0</td>\n",
       "      <td>2017</td>\n",
       "      <td>0.0</td>\n",
       "      <td>United Kingdom</td>\n",
       "      <td></td>\n",
       "      <td></td>\n",
       "      <td>English</td>\n",
       "      <td>sin dato</td>\n",
       "      <td>viernes</td>\n",
       "      <td>junio</td>\n",
       "    </tr>\n",
       "  </tbody>\n",
       "</table>\n",
       "</div>"
      ],
      "text/plain": [
       "       budget      id original_language  \\\n",
       "45463       0   67758                en   \n",
       "45464       0  227506                en   \n",
       "45465       0  461257                en   \n",
       "\n",
       "                                                overview popularity  \\\n",
       "45463  When one of her hits goes wrong, a professiona...   0.903007   \n",
       "45464  In a small town live two brothers, one a minis...   0.003503   \n",
       "45465  50 years after decriminalisation of homosexual...   0.163015   \n",
       "\n",
       "      release_date  revenue  runtime    status                 tagline  \\\n",
       "45463   2003-08-01      0.0     90.0  Released  A deadly game of wits.   \n",
       "45464   1917-10-21      0.0     87.0  Released                     NaN   \n",
       "45465   2017-06-09      0.0     75.0  Released                     NaN   \n",
       "\n",
       "                  title  vote_average  release_year  return  \\\n",
       "45463          betrayal           3.8          2003     0.0   \n",
       "45464  satan triumphant           0.0          1917     0.0   \n",
       "45465          queerama           0.0          2017     0.0   \n",
       "\n",
       "                   country_name  name_production_compani  \\\n",
       "45463  United States of America  American World Pictures   \n",
       "45464                    Russia                Yermoliev   \n",
       "45465            United Kingdom                            \n",
       "\n",
       "                   name_genres name_languages name_franquicia   dia_es  \\\n",
       "45463  Action, Drama, Thriller        English        sin dato  viernes   \n",
       "45464                                                sin dato  domingo   \n",
       "45465                                 English        sin dato  viernes   \n",
       "\n",
       "        mes_es  \n",
       "45463   agosto  \n",
       "45464  octubre  \n",
       "45465    junio  "
      ]
     },
     "execution_count": 41,
     "metadata": {},
     "output_type": "execute_result"
    }
   ],
   "source": [
    "df_movies.tail(3)"
   ]
  },
  {
   "cell_type": "code",
   "execution_count": null,
   "id": "c997d1c9",
   "metadata": {},
   "outputs": [],
   "source": []
  },
  {
   "cell_type": "code",
   "execution_count": null,
   "id": "658eaf45",
   "metadata": {},
   "outputs": [],
   "source": []
  }
 ],
 "metadata": {
  "kernelspec": {
   "display_name": "Python 3 (ipykernel)",
   "language": "python",
   "name": "python3"
  },
  "language_info": {
   "codemirror_mode": {
    "name": "ipython",
    "version": 3
   },
   "file_extension": ".py",
   "mimetype": "text/x-python",
   "name": "python",
   "nbconvert_exporter": "python",
   "pygments_lexer": "ipython3",
   "version": "3.9.13"
  }
 },
 "nbformat": 4,
 "nbformat_minor": 5
}
